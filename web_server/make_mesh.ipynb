{
 "cells": [
  {
   "cell_type": "code",
   "execution_count": 19,
   "metadata": {},
   "outputs": [],
   "source": [
    "import pandas as pd\n",
    "import numpy as np\n",
    "file = pd.read_csv(\"sandal-ply.csv\")\n",
    "mesh = file.drop(columns=['facecolor', 'i', 'j', 'k'])\n",
    "mesh =mesh.dropna()\n",
    "with open('msh.txt', \"w\") as file:\n",
    "    file.write(\"[\")\n",
    "    for row in mesh.to_numpy():\n",
    "        file.write(\"[\")\n",
    "        file.write(\", \".join(map(str, row)))\n",
    "        file.write(\"],\\n\")\n",
    "    file.write(\"]\\n\")\n",
    "# mesh = np.array2string(mesh.to_numpy(), separator=',')\n",
    "# mesh_file = open('mesh.txt', 'w')\n",
    "# mesh_file.write(mesh)\n",
    "# mesh_file.close()\n",
    "# np.savetxt('mesh.txt',mesh.to_numpy(),fmt=\"%d\", delimiter=\", \", header=\"[\", footer=\"]\\n\", comments=\"\")"
   ]
  },
  {
   "cell_type": "code",
   "execution_count": null,
   "metadata": {},
   "outputs": [],
   "source": []
  }
 ],
 "metadata": {
  "kernelspec": {
   "display_name": ".venv",
   "language": "python",
   "name": "python3"
  },
  "language_info": {
   "codemirror_mode": {
    "name": "ipython",
    "version": 3
   },
   "file_extension": ".py",
   "mimetype": "text/x-python",
   "name": "python",
   "nbconvert_exporter": "python",
   "pygments_lexer": "ipython3",
   "version": "3.10.12"
  },
  "orig_nbformat": 4
 },
 "nbformat": 4,
 "nbformat_minor": 2
}
